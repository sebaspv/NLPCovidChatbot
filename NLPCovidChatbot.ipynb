{
  "nbformat": 4,
  "nbformat_minor": 0,
  "metadata": {
    "colab": {
      "name": "NLPCovidChatbot",
      "provenance": [],
      "authorship_tag": "ABX9TyMKZ0XL0MIFXvYgMDag9UAN",
      "include_colab_link": true
    },
    "kernelspec": {
      "name": "python3",
      "display_name": "Python 3"
    }
  },
  "cells": [
    {
      "cell_type": "markdown",
      "metadata": {
        "id": "view-in-github",
        "colab_type": "text"
      },
      "source": [
        "<a href=\"https://colab.research.google.com/github/sebaspv/NLPCovidChatbot/blob/main/NLPCovidChatbot.ipynb\" target=\"_parent\"><img src=\"https://colab.research.google.com/assets/colab-badge.svg\" alt=\"Open In Colab\"/></a>"
      ]
    },
    {
      "cell_type": "code",
      "metadata": {
        "id": "VAU83qH0Q21o"
      },
      "source": [
        "import nltk"
      ],
      "execution_count": 10,
      "outputs": []
    },
    {
      "cell_type": "code",
      "metadata": {
        "id": "2qLUaThORFrz"
      },
      "source": [
        "import numpy as np\n",
        "import random\n",
        "import string"
      ],
      "execution_count": 11,
      "outputs": []
    },
    {
      "cell_type": "code",
      "metadata": {
        "id": "-EI8W-HBSDLM",
        "outputId": "65f357a7-23a3-4dd0-99d0-c7788d4e66b0",
        "colab": {
          "base_uri": "https://localhost:8080/",
          "height": 85
        }
      },
      "source": [
        "f=open('covid.txt','r',errors = 'ignore') # we read the data text file\n",
        "raw_txt=f.read()\n",
        "raw_txt=raw_txt.lower()# converts to lowercase\n",
        "nltk.download('punkt') # download nltk packages\n",
        "nltk.download('wordnet')\n",
        "sent_tokens = nltk.sent_tokenize(raw_txt)# converts to list of sentences \n",
        "word_tokens = nltk.word_tokenize(raw_txt)# converts to list of words"
      ],
      "execution_count": 12,
      "outputs": [
        {
          "output_type": "stream",
          "text": [
            "[nltk_data] Downloading package punkt to /root/nltk_data...\n",
            "[nltk_data]   Package punkt is already up-to-date!\n",
            "[nltk_data] Downloading package wordnet to /root/nltk_data...\n",
            "[nltk_data]   Package wordnet is already up-to-date!\n"
          ],
          "name": "stdout"
        }
      ]
    },
    {
      "cell_type": "code",
      "metadata": {
        "id": "JgrgpTtGcS9Q",
        "outputId": "1178bee6-381b-4e85-a1e1-71908e40c1ca",
        "colab": {
          "base_uri": "https://localhost:8080/",
          "height": 54
        }
      },
      "source": [
        "sent_tokens[:1] # example sentence"
      ],
      "execution_count": 13,
      "outputs": [
        {
          "output_type": "execute_result",
          "data": {
            "text/plain": [
              "['coronavirus disease 2019 (covid-19) is an infectious disease caused by severe acute respiratory syndrome coronavirus 2 (sars-cov-2).']"
            ]
          },
          "metadata": {
            "tags": []
          },
          "execution_count": 13
        }
      ]
    },
    {
      "cell_type": "code",
      "metadata": {
        "id": "c4Xx3BmAcXb7",
        "outputId": "e343b797-5c16-4c5b-cc5d-ccc16870fa8f",
        "colab": {
          "base_uri": "https://localhost:8080/",
          "height": 187
        }
      },
      "source": [
        "word_tokens[:10] # example words"
      ],
      "execution_count": 14,
      "outputs": [
        {
          "output_type": "execute_result",
          "data": {
            "text/plain": [
              "['coronavirus',\n",
              " 'disease',\n",
              " '2019',\n",
              " '(',\n",
              " 'covid-19',\n",
              " ')',\n",
              " 'is',\n",
              " 'an',\n",
              " 'infectious',\n",
              " 'disease']"
            ]
          },
          "metadata": {
            "tags": []
          },
          "execution_count": 14
        }
      ]
    },
    {
      "cell_type": "code",
      "metadata": {
        "id": "8KjLuyNNcdCj"
      },
      "source": [
        "lemmer = nltk.stem.WordNetLemmatizer()\n",
        "# import english dictionary from nltk (WordNet)\n",
        "def LemTokens(tokens):\n",
        "    return [lemmer.lemmatize(token) for token in tokens]\n",
        "remove_punct_dict = dict((ord(punct), None) for punct in string.punctuation)\n",
        "def LemNormalize(text):\n",
        "    return LemTokens(nltk.word_tokenize(text.lower().translate(remove_punct_dict)))\n",
        "# return normalized tokens"
      ],
      "execution_count": 15,
      "outputs": []
    },
    {
      "cell_type": "code",
      "metadata": {
        "id": "txJVJ-TWcoyi"
      },
      "source": [
        "GREETING_INPUTS = (\"hello\", \"hi\", \"greetings\", \"what's up\",\"hey\",\"sup\",\"wassup\")\n",
        "# create normal greetings\n",
        "GREETING_RESPONSES = [\"hi\", \"hey\", \"*nods*\", \"hi there\", \"hello\", \"hey!\"]\n",
        "def greeting(sentence):\n",
        " \n",
        "    for word in sentence.split():\n",
        "        if word.lower() in GREETING_INPUTS:\n",
        "            return random.choice(GREETING_RESPONSES)\n",
        "# if we get a greeting, return a response"
      ],
      "execution_count": 16,
      "outputs": []
    },
    {
      "cell_type": "code",
      "metadata": {
        "id": "zBfXCBKrc_Vz"
      },
      "source": [
        "# create response to questions"
      ],
      "execution_count": 17,
      "outputs": []
    },
    {
      "cell_type": "code",
      "metadata": {
        "id": "2Q7qwYIgdEBT"
      },
      "source": [
        "from sklearn.feature_extraction.text import TfidfVectorizer\n",
        "from sklearn.metrics.pairwise import cosine_similarity\n",
        "# import libraries to find similarity between user input and data text to\n",
        "# create a response\n",
        "def response(user_response):\n",
        "    robo_response=''\n",
        "    TfidfVec = TfidfVectorizer(tokenizer=LemNormalize, stop_words='english')\n",
        "    tfidf = TfidfVec.fit_transform(sent_tokens)\n",
        "    vals = cosine_similarity(tfidf[-1], tfidf)\n",
        "    idx=vals.argsort()[0][-2]\n",
        "    flat = vals.flatten()\n",
        "    flat.sort()\n",
        "    req_tfidf = flat[-2]\n",
        "    if req_tfidf==0:\n",
        "        robo_response=robo_response+\"Sorry! I couldn't understand your question.\"\n",
        "        return robo_response\n",
        "    else:\n",
        "        robo_response = robo_response+sent_tokens[idx]\n",
        "        return robo_response # return response\n",
        "# create a response to the question"
      ],
      "execution_count": 18,
      "outputs": []
    },
    {
      "cell_type": "code",
      "metadata": {
        "id": "D0sFJbLdrz3A"
      },
      "source": [
        "import warnings\n",
        "warnings.filterwarnings(\"ignore\")"
      ],
      "execution_count": 26,
      "outputs": []
    },
    {
      "cell_type": "code",
      "metadata": {
        "id": "uHwBo7itr71U"
      },
      "source": [
        ""
      ],
      "execution_count": null,
      "outputs": []
    },
    {
      "cell_type": "code",
      "metadata": {
        "id": "-ldc9t2-decJ",
        "outputId": "9c955f6c-dc4c-49f8-8fc1-a90dc01c9092",
        "colab": {
          "base_uri": "https://localhost:8080/",
          "height": 190
        }
      },
      "source": [
        "flag=True\n",
        "print(\"Hey! I'm a chatbot created to answer your common questions about the coronavirus COVID-19 Disease, if you want to exit, type bye!\")\n",
        "while flag==True:\n",
        "    user_response = input()\n",
        "    user_response=user_response.lower()\n",
        "    if user_response!='bye':\n",
        "        if user_response=='thanks' or user_response=='thank you':\n",
        "            flag=False\n",
        "            print(\"Bot: You are welcome!\")\n",
        "        else:\n",
        "            if greeting(user_response)!=None:\n",
        "                print(\"Bot: \"+greeting(user_response)) #answer with random greeting\n",
        "            else:\n",
        "                sent_tokens.append(user_response)\n",
        "                word_tokens=word_tokens+nltk.word_tokenize(user_response)\n",
        "                final_words=list(set(word_tokens))\n",
        "                print(\"Bot: \",end=\"\")\n",
        "                print(response(user_response))\n",
        "                sent_tokens.remove(user_response)\n",
        "    else:\n",
        "        flag=False\n",
        "        print(\"Bot: Bye! Remember to stay inside and wear a mask!\")"
      ],
      "execution_count": 29,
      "outputs": [
        {
          "output_type": "stream",
          "text": [
            "Hey! I'm a chatbot created to answer your common questions about the coronavirus COVID-19 Disease, if you want to exit, type bye!\n",
            "hand wash\n",
            "Bot: the who also recommends that individuals wash hands often with soap and water for at least 20 seconds, especially after going to the toilet or when hands are visibly dirty, before eating and after blowing one's nose.\n",
            "prevention\n",
            "Bot: the us national institutes of health guidelines do not recommend any medication for prevention of covid-19, before or after exposure to the sars-cov-2 virus, outside the setting of a clinical trial.\n",
            "wassup\n",
            "Bot: *nods*\n",
            "bye\n",
            "Bot: Bye! Remember to stay inside and wear a mask!\n"
          ],
          "name": "stdout"
        }
      ]
    },
    {
      "cell_type": "code",
      "metadata": {
        "id": "GbnTxmzpeNlK"
      },
      "source": [
        ""
      ],
      "execution_count": 19,
      "outputs": []
    }
  ]
}